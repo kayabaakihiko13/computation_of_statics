{
 "cells": [
  {
   "cell_type": "code",
   "execution_count": 27,
   "metadata": {},
   "outputs": [],
   "source": [
    "import numpy as np\n",
    "import pandas as pd"
   ]
  },
  {
   "cell_type": "code",
   "execution_count": 28,
   "metadata": {},
   "outputs": [],
   "source": [
    "def mean(data:list):\n",
    "    \"\"\"   \n",
    "    The mean (aka the arithmetic mean, different from the geometric mean) of a dataset is the sum of all values divided by the total number of values. It's the most commonly used measure of central tendency and is often referred to as the “average.”\n",
    "    \"\"\"\n",
    "    # Dummy variabel data\n",
    "    dummy=0\n",
    "    count=0\n",
    "    for i in data:\n",
    "        dummy+=i\n",
    "        count+=1\n",
    "    return dummy/count\n",
    "def mid_value(data:list):\n",
    "    # median value must be data sorted\n",
    "    data.sort()\n",
    "    lst=[]\n",
    "    dummy=data\n",
    "    n=len(data)\n",
    "    if n%2 !=0:\n",
    "        indeks=int((n+1)/2)\n",
    "        result=dummy[indeks-1]\n",
    "    else:\n",
    "        index=[int(n/2),int((n/2)+1)]\n",
    "        result=sum(dummy[index[0]:index[1]+1])/2\n",
    "        \n",
    "    return result\n",
    "def Gmod(data:list):\n",
    "    dummy=[]\n",
    "\n",
    "    index=0\n",
    "    while len(data)>index:\n",
    "        dummy.append(data.count(data[index]))\n",
    "        index+=1\n",
    "    d1=dict(zip(data,dummy))\n",
    "    result=[i for (i,j) in d1.items() if j==max(dummy)]\n",
    "    result=[]\n",
    "    min_value=\n",
    "\n",
    "    \n",
    "\n",
    "    "
   ]
  },
  {
   "cell_type": "code",
   "execution_count": 29,
   "metadata": {},
   "outputs": [],
   "source": [
    "a=[i for i in np.random.randn(10)]"
   ]
  },
  {
   "cell_type": "code",
   "execution_count": 30,
   "metadata": {},
   "outputs": [
    {
     "data": {
      "text/plain": [
       "[-1.7354088694564573,\n",
       " -1.4028388636297628,\n",
       " -1.2438223787892615,\n",
       " -0.9096467102822533,\n",
       " -0.8686469923491945,\n",
       " -0.2554394468576764,\n",
       " -0.2066337338679899,\n",
       " 0.7682235230339082,\n",
       " 0.9410942759801608,\n",
       " 2.0980681213064347]"
      ]
     },
     "execution_count": 30,
     "metadata": {},
     "output_type": "execute_result"
    }
   ],
   "source": [
    "Gmod(a)# cara baca nya {number:frequecy}\n"
   ]
  },
  {
   "cell_type": "code",
   "execution_count": 31,
   "metadata": {},
   "outputs": [
    {
     "name": "stderr",
     "output_type": "stream",
     "text": [
      "/tmp/ipykernel_18755/2174811424.py:2: FutureWarning: Unlike other reduction functions (e.g. `skew`, `kurtosis`), the default behavior of `mode` typically preserves the axis it acts along. In SciPy 1.11.0, this behavior will change: the default value of `keepdims` will become False, the `axis` over which the statistic is taken will be eliminated, and the value None will no longer be accepted. Set `keepdims` to True or False to avoid this warning.\n",
      "  modus(a,axis=0)\n"
     ]
    },
    {
     "data": {
      "text/plain": [
       "ModeResult(mode=array([-1.73540887]), count=array([1]))"
      ]
     },
     "execution_count": 31,
     "metadata": {},
     "output_type": "execute_result"
    }
   ],
   "source": [
    "from scipy.stats import mode as modus\n",
    "modus(a,axis=0)"
   ]
  },
  {
   "cell_type": "code",
   "execution_count": 32,
   "metadata": {},
   "outputs": [
    {
     "data": {
      "text/plain": [
       "-0.2815051074912092"
      ]
     },
     "execution_count": 32,
     "metadata": {},
     "output_type": "execute_result"
    }
   ],
   "source": [
    "mean(a)"
   ]
  },
  {
   "cell_type": "code",
   "execution_count": 33,
   "metadata": {},
   "outputs": [
    {
     "data": {
      "text/plain": [
       "-0.23103659036283314"
      ]
     },
     "execution_count": 33,
     "metadata": {},
     "output_type": "execute_result"
    }
   ],
   "source": [
    "mid_value(a)"
   ]
  },
  {
   "cell_type": "code",
   "execution_count": 34,
   "metadata": {},
   "outputs": [
    {
     "data": {
      "text/plain": [
       "(          Data 1\n",
       " count  10.000000\n",
       " mean   -0.281505\n",
       " std     1.215726\n",
       " min    -1.735409\n",
       " 25%    -1.160278\n",
       " 50%    -0.562043\n",
       " 75%     0.524509\n",
       " max     2.098068,\n",
       "      Data 1\n",
       " 0 -1.735409\n",
       " 1 -1.402839\n",
       " 2 -1.243822\n",
       " 3 -0.909647\n",
       " 4 -0.868647\n",
       " 5 -0.255439\n",
       " 6 -0.206634\n",
       " 7  0.768224\n",
       " 8  0.941094\n",
       " 9  2.098068)"
      ]
     },
     "execution_count": 34,
     "metadata": {},
     "output_type": "execute_result"
    }
   ],
   "source": [
    "df=pd.DataFrame({\"Data 1\":a})\n",
    "df.describe(),df.mode(axis=0)"
   ]
  },
  {
   "cell_type": "code",
   "execution_count": null,
   "metadata": {},
   "outputs": [],
   "source": []
  }
 ],
 "metadata": {
  "kernelspec": {
   "display_name": "Python 3.10.4 64-bit",
   "language": "python",
   "name": "python3"
  },
  "language_info": {
   "codemirror_mode": {
    "name": "ipython",
    "version": 3
   },
   "file_extension": ".py",
   "mimetype": "text/x-python",
   "name": "python",
   "nbconvert_exporter": "python",
   "pygments_lexer": "ipython3",
   "version": "3.10.4"
  },
  "orig_nbformat": 4,
  "vscode": {
   "interpreter": {
    "hash": "916dbcbb3f70747c44a77c7bcd40155683ae19c65e1c03b4aa3499c5328201f1"
   }
  }
 },
 "nbformat": 4,
 "nbformat_minor": 2
}
