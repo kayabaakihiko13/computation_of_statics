{
 "cells": [
  {
   "cell_type": "code",
   "execution_count": 3,
   "metadata": {},
   "outputs": [],
   "source": [
    "import numpy as np\n",
    "import statsmodels.api as sm\n",
    "import pandas as pd\n",
    "from module.modeling import statistic as st"
   ]
  },
  {
   "cell_type": "code",
   "execution_count": 5,
   "metadata": {},
   "outputs": [
    {
     "ename": "TypeError",
     "evalue": "len() argument after * must be an iterable, not int",
     "output_type": "error",
     "traceback": [
      "\u001b[0;31m---------------------------------------------------------------------------\u001b[0m",
      "\u001b[0;31mTypeError\u001b[0m                                 Traceback (most recent call last)",
      "Cell \u001b[0;32mIn [5], line 1\u001b[0m\n\u001b[0;32m----> 1\u001b[0m st\u001b[39m.\u001b[39;49m_mode(\u001b[39m*\u001b[39;49m(\u001b[39m1\u001b[39;49m,\u001b[39m2\u001b[39;49m,\u001b[39m3\u001b[39;49m,\u001b[39m4\u001b[39;49m))\n",
      "File \u001b[0;32m~/Desktop/SMS_3/computation_of_statics/Week2/Task/module/modeling.py:50\u001b[0m, in \u001b[0;36mstatistic._mode\u001b[0;34m(data, *args)\u001b[0m\n\u001b[1;32m     48\u001b[0m index\u001b[39m=\u001b[39m\u001b[39m0\u001b[39m\n\u001b[1;32m     49\u001b[0m \u001b[39m# check count if count ==1 in all value\u001b[39;00m\n\u001b[0;32m---> 50\u001b[0m \u001b[39mwhile\u001b[39;00m index\u001b[39m<\u001b[39m\u001b[39mlen\u001b[39;49m(\u001b[39m*\u001b[39;49mdata):\n\u001b[1;32m     51\u001b[0m     dummy_data\u001b[39m.\u001b[39mappend(data\u001b[39m.\u001b[39mcount(data[index]))\n\u001b[1;32m     52\u001b[0m     index\u001b[39m+\u001b[39m\u001b[39m=\u001b[39m\u001b[39m1\u001b[39m\n",
      "\u001b[0;31mTypeError\u001b[0m: len() argument after * must be an iterable, not int"
     ]
    }
   ],
   "source": [
    "st._mode(*(1,2,3,4))"
   ]
  },
  {
   "cell_type": "code",
   "execution_count": null,
   "metadata": {},
   "outputs": [],
   "source": []
  }
 ],
 "metadata": {
  "kernelspec": {
   "display_name": "Python 3.10.7 64-bit",
   "language": "python",
   "name": "python3"
  },
  "language_info": {
   "codemirror_mode": {
    "name": "ipython",
    "version": 3
   },
   "file_extension": ".py",
   "mimetype": "text/x-python",
   "name": "python",
   "nbconvert_exporter": "python",
   "pygments_lexer": "ipython3",
   "version": "3.10.7"
  },
  "orig_nbformat": 4,
  "vscode": {
   "interpreter": {
    "hash": "e7370f93d1d0cde622a1f8e1c04877d8463912d04d973331ad4851f04de6915a"
   }
  }
 },
 "nbformat": 4,
 "nbformat_minor": 2
}
