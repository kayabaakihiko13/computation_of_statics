{
 "cells": [
  {
   "cell_type": "code",
   "execution_count": 214,
   "metadata": {},
   "outputs": [],
   "source": [
    "# Import modul\n",
    "import pandas as pd\n",
    "import numpy as np\n",
    "from model.modul import statistic"
   ]
  },
  {
   "cell_type": "markdown",
   "metadata": {},
   "source": [
    "# Soal Pertama\n",
    "Buatlah sebuah program untuk menghitung rata-rata, variansi, median, mode, kovarians,\n",
    "dan korelasi untuk data berikut Tabel 1. Program ditulis dalam module class dan bisa di\n",
    "import dengan library mymodule (skor 20)\n",
    "x=4,4,7,7,8,9,10,10,10,11\n",
    "y=2,10,4,22,16,10,18,26,34,17"
   ]
  },
  {
   "cell_type": "code",
   "execution_count": 216,
   "metadata": {},
   "outputs": [
    {
     "data": {
      "text/html": [
       "<div>\n",
       "<style scoped>\n",
       "    .dataframe tbody tr th:only-of-type {\n",
       "        vertical-align: middle;\n",
       "    }\n",
       "\n",
       "    .dataframe tbody tr th {\n",
       "        vertical-align: top;\n",
       "    }\n",
       "\n",
       "    .dataframe thead th {\n",
       "        text-align: right;\n",
       "    }\n",
       "</style>\n",
       "<table border=\"1\" class=\"dataframe\">\n",
       "  <thead>\n",
       "    <tr style=\"text-align: right;\">\n",
       "      <th></th>\n",
       "      <th>X</th>\n",
       "      <th>Y</th>\n",
       "    </tr>\n",
       "  </thead>\n",
       "  <tbody>\n",
       "    <tr>\n",
       "      <th>0</th>\n",
       "      <td>4</td>\n",
       "      <td>2</td>\n",
       "    </tr>\n",
       "    <tr>\n",
       "      <th>1</th>\n",
       "      <td>4</td>\n",
       "      <td>10</td>\n",
       "    </tr>\n",
       "    <tr>\n",
       "      <th>2</th>\n",
       "      <td>7</td>\n",
       "      <td>4</td>\n",
       "    </tr>\n",
       "    <tr>\n",
       "      <th>3</th>\n",
       "      <td>7</td>\n",
       "      <td>22</td>\n",
       "    </tr>\n",
       "    <tr>\n",
       "      <th>4</th>\n",
       "      <td>8</td>\n",
       "      <td>16</td>\n",
       "    </tr>\n",
       "  </tbody>\n",
       "</table>\n",
       "</div>"
      ],
      "text/plain": [
       "   X   Y\n",
       "0  4   2\n",
       "1  4  10\n",
       "2  7   4\n",
       "3  7  22\n",
       "4  8  16"
      ]
     },
     "execution_count": 216,
     "metadata": {},
     "output_type": "execute_result"
    }
   ],
   "source": [
    "df1=pd.DataFrame({\n",
    "    \"X\":[4,4,7,7,8,9,10,10,10,11],\n",
    "    \"Y\":[2,10,4,22,16,10,18,26,34,17]\n",
    "})\n",
    "df1.head()"
   ]
  },
  {
   "cell_type": "markdown",
   "metadata": {},
   "source": [
    "### Uji Mean,Median,Corr,var,cov,std,z_score"
   ]
  },
  {
   "cell_type": "code",
   "execution_count": 217,
   "metadata": {},
   "outputs": [
    {
     "name": "stdout",
     "output_type": "stream",
     "text": [
      "\n",
      "-------------------------------(mean)\n",
      "mean X:8.0\n",
      "mean Y:15.9\n",
      "-------------------------------(median)\n",
      "median X:8.5\n",
      "median Y:13.0\n",
      "---------------------------------(coff)\n",
      "coof=0.6453079104843609\n",
      "\n",
      "[10]\n"
     ]
    }
   ],
   "source": [
    "print(f\"\"\"\n",
    "-------------------------------(mean)\n",
    "mean X:{statistic._mean(df1.X)}\n",
    "mean Y:{statistic._mean(df1.Y)}\n",
    "-------------------------------(median)\n",
    "median X:{statistic.median_val(df1.X)}\n",
    "median Y:{statistic.median_val(df1.Y)}\n",
    "---------------------------------(coff)\n",
    "coof={statistic._correlation(df1.X,df1.Y)}\n",
    "\"\"\")\n",
    "\n",
    "# print(statistic.std_two_pol(df1.X,df1.Y))\n",
    "print(statistic._mode(df1.X))\n",
    "\n"
   ]
  },
  {
   "cell_type": "code",
   "execution_count": 218,
   "metadata": {},
   "outputs": [
    {
     "data": {
      "text/plain": [
       "Ttest_indResult(statistic=-2.4537527507684507, pvalue=0.024552331180212075)"
      ]
     },
     "execution_count": 218,
     "metadata": {},
     "output_type": "execute_result"
    }
   ],
   "source": [
    "import scipy.stats as stats\n",
    "stats.ttest_ind(df1.X,df1.Y)"
   ]
  },
  {
   "cell_type": "markdown",
   "metadata": {},
   "source": [
    "# Soal Ke 2\n",
    "1. Apa Yang dimaksud dengan Uji Hipotesis\n",
    "> Uji hipotesis dimana pengujian sebuah data metode pengambilan keputusan yang didasarkan dari analisis data, baik dari percobaan yang terkontrol, maupun dari observasi (tidak terkontrol).\n",
    "2. Apa yang dimaksud dengan anova\n",
    "> sendiri dapat diartikan sebagai salah satu metode atau uji hipotesis yang digunakan pada statistika parametrik, dimana pengujian dilakukan pada interaksi dua faktor dengan membandingkan rata-rata dua sampel atau lebih. "
   ]
  },
  {
   "cell_type": "markdown",
   "metadata": {},
   "source": [
    "Soal Ke 3\n",
    "\n",
    "Buatlah Program yang untuk tvalue independet"
   ]
  },
  {
   "cell_type": "code",
   "execution_count": 219,
   "metadata": {},
   "outputs": [
    {
     "name": "stdout",
     "output_type": "stream",
     "text": [
      "-2.839007735718483\n"
     ]
    }
   ],
   "source": [
    "print(statistic.t_value_ind(df1.X,df1.Y))"
   ]
  },
  {
   "cell_type": "markdown",
   "metadata": {},
   "source": [
    "Soal Ke Empat Uji dengan varibel berikut\n"
   ]
  },
  {
   "cell_type": "code",
   "execution_count": 220,
   "metadata": {},
   "outputs": [
    {
     "data": {
      "text/html": [
       "<div>\n",
       "<style scoped>\n",
       "    .dataframe tbody tr th:only-of-type {\n",
       "        vertical-align: middle;\n",
       "    }\n",
       "\n",
       "    .dataframe tbody tr th {\n",
       "        vertical-align: top;\n",
       "    }\n",
       "\n",
       "    .dataframe thead th {\n",
       "        text-align: right;\n",
       "    }\n",
       "</style>\n",
       "<table border=\"1\" class=\"dataframe\">\n",
       "  <thead>\n",
       "    <tr style=\"text-align: right;\">\n",
       "      <th></th>\n",
       "      <th>A</th>\n",
       "      <th>B</th>\n",
       "      <th>C</th>\n",
       "    </tr>\n",
       "  </thead>\n",
       "  <tbody>\n",
       "    <tr>\n",
       "      <th>0</th>\n",
       "      <td>8</td>\n",
       "      <td>6</td>\n",
       "      <td>9</td>\n",
       "    </tr>\n",
       "    <tr>\n",
       "      <th>1</th>\n",
       "      <td>10</td>\n",
       "      <td>6</td>\n",
       "      <td>7</td>\n",
       "    </tr>\n",
       "    <tr>\n",
       "      <th>2</th>\n",
       "      <td>6</td>\n",
       "      <td>6</td>\n",
       "      <td>5</td>\n",
       "    </tr>\n",
       "    <tr>\n",
       "      <th>3</th>\n",
       "      <td>6</td>\n",
       "      <td>9</td>\n",
       "      <td>8</td>\n",
       "    </tr>\n",
       "    <tr>\n",
       "      <th>4</th>\n",
       "      <td>9</td>\n",
       "      <td>6</td>\n",
       "      <td>7</td>\n",
       "    </tr>\n",
       "  </tbody>\n",
       "</table>\n",
       "</div>"
      ],
      "text/plain": [
       "    A  B  C\n",
       "0   8  6  9\n",
       "1  10  6  7\n",
       "2   6  6  5\n",
       "3   6  9  8\n",
       "4   9  6  7"
      ]
     },
     "execution_count": 220,
     "metadata": {},
     "output_type": "execute_result"
    }
   ],
   "source": [
    "a=[8,10,6,6,9,7,6]\n",
    "b=[6,6,6,9,6,6,5]\n",
    "c=[9,7,5,8,7,7,5]\n",
    "\n",
    "df2=pd.DataFrame(\n",
    "    {\"A\":a,\n",
    "    \"B\":b,\n",
    "    \"C\":c}\n",
    ")\n",
    "df2.head()"
   ]
  },
  {
   "cell_type": "code",
   "execution_count": 221,
   "metadata": {},
   "outputs": [
    {
     "name": "stdout",
     "output_type": "stream",
     "text": [
      "Ttest pada media1 dan media2: 0.8163616116597692\n",
      "Ttest pada media1 dan media3: 0.40818080582988486\n",
      "Ttest pada media1 dan media2: -0.6803013430498072\n"
     ]
    }
   ],
   "source": [
    "media1=df2.A\n",
    "media2=df2.B\n",
    "media3=df2.C\n",
    "print('Ttest pada media1 dan media2:',statistic.t_value_ind(media1,media2))\n",
    "print('Ttest pada media1 dan media3:',statistic.t_value_ind(media1,media3))\n",
    "print('Ttest pada media1 dan media2:',statistic.t_value_ind(media2,media3))"
   ]
  },
  {
   "cell_type": "markdown",
   "metadata": {},
   "source": [
    "kesimpulan bahwa algoritma ini masih blm sempurna jadi harap maklum\n",
    "\n",
    "dari sini kita kelihatan arah data  itu bias tidak"
   ]
  },
  {
   "cell_type": "markdown",
   "metadata": {},
   "source": [
    "# Soal Ke 4 buat modul slope and intepect\n",
    "> lihat di bagian model/modul.py ----> lihat statistic.reges"
   ]
  },
  {
   "cell_type": "markdown",
   "metadata": {},
   "source": [
    "# Soal Kelima\n",
    "kita ujikan\n"
   ]
  },
  {
   "cell_type": "code",
   "execution_count": 222,
   "metadata": {},
   "outputs": [
    {
     "name": "stdout",
     "output_type": "stream",
     "text": [
      "[[14152.355555555556, 14152.355555555556, 14152.355555555556, 14152.355555555556, 14152.355555555556, 14152.355555555556, 14152.355555555556, 14152.355555555556, 14152.355555555556, 14152.355555555556, 14152.355555555556, -113202.94444444445]]\n"
     ]
    }
   ],
   "source": [
    "print(statistic.reges(df1.X,df1.Y))"
   ]
  },
  {
   "cell_type": "code",
   "execution_count": null,
   "metadata": {},
   "outputs": [],
   "source": []
  }
 ],
 "metadata": {
  "kernelspec": {
   "display_name": "Python 3.10.6 64-bit",
   "language": "python",
   "name": "python3"
  },
  "language_info": {
   "codemirror_mode": {
    "name": "ipython",
    "version": 3
   },
   "file_extension": ".py",
   "mimetype": "text/x-python",
   "name": "python",
   "nbconvert_exporter": "python",
   "pygments_lexer": "ipython3",
   "version": "3.10.6"
  },
  "orig_nbformat": 4,
  "vscode": {
   "interpreter": {
    "hash": "916dbcbb3f70747c44a77c7bcd40155683ae19c65e1c03b4aa3499c5328201f1"
   }
  }
 },
 "nbformat": 4,
 "nbformat_minor": 2
}
