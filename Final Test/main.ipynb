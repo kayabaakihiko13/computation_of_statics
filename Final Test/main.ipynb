{
 "cells": [
  {
   "attachments": {},
   "cell_type": "markdown",
   "metadata": {},
   "source": [
    "<div>\n",
    "    <h3>Soal 1</h3>\n",
    "    <p>Di berikan sebuah data: <br> 55,84,99,51,22,77,39,63,10,66</p>\n",
    "    <ul>\n",
    "        <li type=\"a\">Lakukan bootstrap mean sebanyak 200 kali dan hitung berapa mean bootstrap yang\n",
    "        didapatkan\n",
    "        </li>\n",
    "        <li type=\"a\">Lakukan bootstrap varians sebanyak 200 kali dan hitung berapa varians bootstrap\n",
    "        yang didapatkan\n",
    "        </li>\n",
    "        <li type=\"a\">Lakukan jackknife mean dan hitung berapa mean jackknife yang didapatkan\n",
    "        </li>\n",
    "        <li type=\"a\">Lakukan jackknife varians dan hitung berapa varians jackknife yang didapatkan\n",
    "        </li>\n",
    "        <li type=\"a\">Hitung nilai rata-rata pada data tersebut\n",
    "        </li>\n",
    "        <li type=\"a\">Hitung nilai Mean Squared Error (MSE) pada hasil poin “e” menggunakan bootstrap\n",
    "            atau jackknife.\n",
    "        </li>\n",
    "        <li type=\"a\">Buatlah selang kepercayaan 5% dengan bantuan bootstrap atau jackknife.\n",
    "        </li>\n",
    "    </ul>\n",
    "\n",
    "</div>"
   ]
  },
  {
   "attachments": {},
   "cell_type": "markdown",
   "metadata": {},
   "source": [
    "<div>\n",
    "    <h2>A.Lakukan bootstrap mean sebanyak 200 kali dan hitung berapa mean bootstrap yang\n",
    "        didapatkan</h2>\n",
    "</div>"
   ]
  },
  {
   "cell_type": "code",
   "execution_count": 1,
   "metadata": {},
   "outputs": [
    {
     "name": "stdout",
     "output_type": "stream",
     "text": [
      "=======Start  Bootstarp=======\n",
      "0.05884671211242676\n",
      "========End Bootstarp=========\n",
      "result for mean bootraping of mean 56.83192857142858\n"
     ]
    }
   ],
   "source": [
    "from model import *\n",
    "from numpy import mean,var\n",
    "data=[55,84,99,51,22,77,39,63,10,66]\n",
    "\n",
    "x,mean_bootstrap,_,mse_mean,_,=boostraping(data,rows=200,k=70,func=mean)\n",
    "\n",
    "print('result for mean bootraping of mean',mean_bootstrap)\n",
    "\n"
   ]
  },
  {
   "attachments": {},
   "cell_type": "markdown",
   "metadata": {},
   "source": [
    "## B. Lakukan bootstrap varians sebanyak 200 kali dan hitung berapa varians bootstrap yang didapatkan"
   ]
  },
  {
   "cell_type": "code",
   "execution_count": 2,
   "metadata": {},
   "outputs": [
    {
     "name": "stdout",
     "output_type": "stream",
     "text": [
      "=======Start  Bootstarp=======\n",
      "0.07883429527282715\n",
      "========End Bootstarp=========\n",
      "variance original is: 680.6400000000001\n",
      "result variance from bootraping of variance 674.6380908163264\n"
     ]
    }
   ],
   "source": [
    "_,var_bootstrap,_,mse_variance,_,=boostraping(data,rows=200,k=70,func=var)\n",
    "print('variance original is:',var(data))\n",
    "print('result variance from bootraping of variance',var_bootstrap)\n"
   ]
  },
  {
   "attachments": {},
   "cell_type": "markdown",
   "metadata": {},
   "source": [
    "## C. Lakukan jackknife mean dan hitung berapa mean jackknife yang didapatkan"
   ]
  },
  {
   "cell_type": "code",
   "execution_count": 3,
   "metadata": {},
   "outputs": [
    {
     "name": "stdout",
     "output_type": "stream",
     "text": [
      "nilai rata-rata asli: 56.6\n",
      "nilai rata-rata jacknife: 56.6\n",
      "nilai bias jacknife: 0.0\n"
     ]
    }
   ],
   "source": [
    "_,estimasi,var_resample,bias,_,conv_mean=jackknife_stat(data=data,func=mean,convince=0.95)\n",
    "print('nilai rata-rata asli:',mean(data))\n",
    "print('nilai rata-rata jacknife:',estimasi)\n",
    "print('nilai bias jacknife:',bias)"
   ]
  },
  {
   "attachments": {},
   "cell_type": "markdown",
   "metadata": {},
   "source": [
    "## D. Lakukan jackknife varians dan hitung berapa varians jackknife yang didapatkan"
   ]
  },
  {
   "cell_type": "code",
   "execution_count": 4,
   "metadata": {},
   "outputs": [
    {
     "name": "stdout",
     "output_type": "stream",
     "text": [
      "nilai variance asli: 680.6400000000001\n",
      "nilai estimasi jacknife: 756.266666666668\n",
      "nilai bias jacknife: -75.62666666666792\n",
      "variance jacknife 680.64\n"
     ]
    }
   ],
   "source": [
    "re_sample,estimasi,var_resample,bias,_,convince_var=jackknife_stat(data=data,func=var,convince=0.95) # satu arrah 1-0.05=0.95\n",
    "print('nilai variance asli:',var(data))\n",
    "print('nilai estimasi jacknife:',estimasi)\n",
    "print('nilai bias jacknife:',bias)\n",
    "print('variance jacknife',var_resample)\n",
    "\n"
   ]
  },
  {
   "attachments": {},
   "cell_type": "markdown",
   "metadata": {},
   "source": [
    "# E. Hitung nilai rata-rata pada data tersebut"
   ]
  },
  {
   "cell_type": "code",
   "execution_count": 5,
   "metadata": {},
   "outputs": [
    {
     "name": "stdout",
     "output_type": "stream",
     "text": [
      "rata-rata asli: 56.6\n"
     ]
    }
   ],
   "source": [
    "print('rata-rata asli:',mean(data))"
   ]
  },
  {
   "attachments": {},
   "cell_type": "markdown",
   "metadata": {},
   "source": [
    "## F. Hitung nilai Mean Squared Error (MSE) pada hasil poin “e” menggunakan bootstrap atau jackknife."
   ]
  },
  {
   "cell_type": "code",
   "execution_count": 6,
   "metadata": {},
   "outputs": [
    {
     "name": "stdout",
     "output_type": "stream",
     "text": [
      "MSE pada boostrap pada fungsi mean: 2.603357142857143\n",
      "MSE pada boostrap pada fungsi var: 72.37853367346939\n",
      "MSE pada jacknife pada fungsi mean: [39.5554488 73.6445512]\n",
      "MSE pada jacknife pada fungsi var: [ 213.46293826 1299.07039508]\n"
     ]
    }
   ],
   "source": [
    "from sklearn.metrics import mean_squared_error\n",
    "print('MSE pada boostrap pada fungsi mean:',mse_mean)\n",
    "print('MSE pada boostrap pada fungsi var:',mse_variance)\n",
    "print('MSE pada jacknife pada fungsi mean:',conv_mean)\n",
    "print('MSE pada jacknife pada fungsi var:',convince_var)"
   ]
  },
  {
   "attachments": {},
   "cell_type": "markdown",
   "metadata": {},
   "source": [
    "## G.Buatlah selang kepercayaan 5% dengan bantuan bootstrap atau jackknife."
   ]
  },
  {
   "attachments": {},
   "cell_type": "markdown",
   "metadata": {},
   "source": [
    "### bootstraping"
   ]
  },
  {
   "cell_type": "code",
   "execution_count": 7,
   "metadata": {},
   "outputs": [
    {
     "name": "stdout",
     "output_type": "stream",
     "text": [
      "=======Start  Bootstarp=======\n",
      "0.07141828536987305\n",
      "========End Bootstarp=========\n",
      "[50.54335182446199, 62.65664817553801]\n"
     ]
    }
   ],
   "source": [
    "dummy_1,mean_funct_resample,var_bootstraping,mse_mean_funct_resample,ci_resample=boostraping(data,200,70,mean)\n",
    "print(ci_resample)"
   ]
  },
  {
   "cell_type": "markdown",
   "metadata": {},
   "source": [
    "### jackknife"
   ]
  },
  {
   "cell_type": "code",
   "execution_count": 8,
   "metadata": {},
   "outputs": [
    {
     "name": "stdout",
     "output_type": "stream",
     "text": [
      "nilai variance asli: 680.6400000000001\n",
      "nilai estimasi jacknife: 56.6\n",
      "nilai bias jacknife: 0.0\n",
      "variance jacknife pada 680.64\n",
      "nilai CI adalah: [ 213.46293826 1299.07039508]\n"
     ]
    }
   ],
   "source": [
    "re_sample,estimasi,mean_resample,bias,_,convince_mean=jackknife_stat(data=data,func=mean,convince=0.95) # satu arrah 1-0.05=0.95\n",
    "print('nilai variance asli:',var(data))\n",
    "print('nilai estimasi jacknife:',estimasi)\n",
    "print('nilai bias jacknife:',bias)\n",
    "print('variance jacknife pada',var_resample)\n",
    "print('nilai CI adalah:',convince_var)\n",
    "\n"
   ]
  },
  {
   "cell_type": "code",
   "execution_count": 9,
   "metadata": {},
   "outputs": [
    {
     "name": "stdout",
     "output_type": "stream",
     "text": [
      "nilai variance asli: 680.6400000000001\n",
      "nilai estimasi jacknife: 756.266666666668\n",
      "nilai bias jacknife: -75.62666666666792\n",
      "variance jacknife 680.64\n",
      "nilai CI adalah: [ 213.46293826 1299.07039508]\n"
     ]
    }
   ],
   "source": [
    "re_sample,estimasi,var_resample,bias,_,convince_var=jackknife_stat(data=data,func=var,convince=0.95) # satu arrah 1-0.05=0.95\n",
    "print('nilai variance asli:',var(data))\n",
    "print('nilai estimasi jacknife:',estimasi)\n",
    "print('nilai bias jacknife:',bias)\n",
    "print('variance jacknife',var_resample)\n",
    "print('nilai CI adalah:',convince_var)\n",
    "\n"
   ]
  },
  {
   "attachments": {},
   "cell_type": "markdown",
   "metadata": {},
   "source": [
    "2. a)"
   ]
  },
  {
   "cell_type": "code",
   "execution_count": 10,
   "metadata": {},
   "outputs": [
    {
     "data": {
      "text/plain": [
       "array([[ 1.        , -0.01185611],\n",
       "       [-0.01185611,  1.        ]])"
      ]
     },
     "execution_count": 10,
     "metadata": {},
     "output_type": "execute_result"
    }
   ],
   "source": [
    "def uniform_generator(low=0,high=1,size=None):\n",
    "    if size==None:\n",
    "        return low+(high-low)*random()\n",
    "    if size<0:\n",
    "        raise ValueError('size not in real number on negative')\n",
    "    memo=[]\n",
    "    for i in range(size):\n",
    "        result=low+(high-low)*random()\n",
    "        memo.append(result)\n",
    "    return (np.array(memo))  \n",
    "np.corrcoef(uniform_generator(low=0,high=1,size=1000),np.random.uniform(size=1000))\n"
   ]
  },
  {
   "attachments": {},
   "cell_type": "markdown",
   "metadata": {},
   "source": [
    "2. b)"
   ]
  },
  {
   "cell_type": "code",
   "execution_count": 11,
   "metadata": {},
   "outputs": [
    {
     "data": {
      "text/plain": [
       "array([[1.        , 0.04391672],\n",
       "       [0.04391672, 1.        ]])"
      ]
     },
     "execution_count": 11,
     "metadata": {},
     "output_type": "execute_result"
    }
   ],
   "source": [
    "np.corrcoef((uniform_generator(low=0,high=1,size=1000)**2),np.random.uniform(size=1000))"
   ]
  },
  {
   "attachments": {},
   "cell_type": "markdown",
   "metadata": {},
   "source": [
    "### 3. Misalkan 𝑈1 , 𝑈2 , … berdistribusi uniform(0,1). Kemudian diberikan 𝑁 = min{𝑛: ∑𝑛𝑖=1 𝑈𝑖 > 1} merupakan sebuah bilangan acak yang dijumlahkan dan berhenti ketika berjumlah lebih dari 1. Dengan menggunakan pemrograman, lakukan,"
   ]
  },
  {
   "attachments": {},
   "cell_type": "markdown",
   "metadata": {},
   "source": [
    "### a. mengunakan N =100"
   ]
  },
  {
   "cell_type": "code",
   "execution_count": 12,
   "metadata": {},
   "outputs": [
    {
     "name": "stdout",
     "output_type": "stream",
     "text": [
      "estimasi rata-rata sample: 0.5406329285184814\n",
      "estimasi varian sample: 0.07300685215693568\n"
     ]
    }
   ],
   "source": [
    "sample=random_uniform(size=100)\n",
    "print('estimasi rata-rata sample:',mean(sample))\n",
    "print('estimasi varian sample:',var(sample))\n"
   ]
  },
  {
   "attachments": {},
   "cell_type": "markdown",
   "metadata": {},
   "source": [
    "b. menggunakan N=1000"
   ]
  },
  {
   "cell_type": "code",
   "execution_count": 13,
   "metadata": {},
   "outputs": [
    {
     "name": "stdout",
     "output_type": "stream",
     "text": [
      "estimasi rata-rata sample: 0.5013994415923615\n",
      "estimasi varian sample: 0.08462751023812326\n"
     ]
    }
   ],
   "source": [
    "sample=random_uniform(size=1000)\n",
    "print('estimasi rata-rata sample:',mean(sample))\n",
    "print('estimasi varian sample:',var(sample))"
   ]
  },
  {
   "attachments": {},
   "cell_type": "markdown",
   "metadata": {},
   "source": [
    "4 a)"
   ]
  },
  {
   "cell_type": "code",
   "execution_count": 14,
   "metadata": {},
   "outputs": [],
   "source": [
    "from numpy.random import uniform as _uniform\n",
    "N=_uniform(size=1000)\n",
    "def inverse(u):\n",
    "    formula=pow(((12*u)/(2*u+3)),1/3)\n",
    "    return formula\n"
   ]
  },
  {
   "cell_type": "code",
   "execution_count": 15,
   "metadata": {},
   "outputs": [
    {
     "data": {
      "image/png": "[encoded data removed]",
      "text/plain": [
       "<Figure size 640x480 with 1 Axes>"
      ]
     },
     "metadata": {},
     "output_type": "display_data"
    }
   ],
   "source": [
    "import seaborn as sns\n",
    "import matplotlib.pyplot as plt\n",
    "plt.hist(inverse(N))\n",
    "plt.hist(np.random.uniform(N))\n",
    "plt.show()"
   ]
  },
  {
   "attachments": {},
   "cell_type": "markdown",
   "metadata": {},
   "source": [
    "4 b"
   ]
  },
  {
   "cell_type": "code",
   "execution_count": 16,
   "metadata": {},
   "outputs": [],
   "source": [
    "def p(x):\n",
    "    return 0.5*((x**2)+x)\n",
    "def accept_reject(N):\n",
    "    xmin = -3\n",
    "    xmax = 3\n",
    "    pmax = 0.8\n",
    "\n",
    "    n_accept=0\n",
    "    x_list = [] \n",
    "    while n_accept < N:\n",
    "        t = (xmax-xmin)*np.random.rand() + xmin\n",
    "        y = np.random.rand()\n",
    "        if y < p(t)/ pmax:\n",
    "            n_accept += 1\n",
    "            x_list.append(t)\n",
    "    return x_list"
   ]
  },
  {
   "cell_type": "code",
   "execution_count": 17,
   "metadata": {},
   "outputs": [
    {
     "name": "stderr",
     "output_type": "stream",
     "text": [
      "/tmp/ipykernel_4725/598428131.py:1: UserWarning: \n",
      "\n",
      "`distplot` is a deprecated function and will be removed in seaborn v0.14.0.\n",
      "\n",
      "Please adapt your code to use either `displot` (a figure-level function with\n",
      "similar flexibility) or `histplot` (an axes-level function for histograms).\n",
      "\n",
      "For a guide to updating your code to use the new functions, please see\n",
      "https://gist.github.com/mwaskom/de44147ed2974457ad6372750bbe5751\n",
      "\n",
      "  sns.distplot(accept_reject(10000))\n"
     ]
    },
    {
     "data": {
      "text/plain": [
       "<AxesSubplot: ylabel='Density'>"
      ]
     },
     "execution_count": 17,
     "metadata": {},
     "output_type": "execute_result"
    },
    {
     "data": {
      "image/png": "[encoded data removed]",
      "text/plain": [
       "<Figure size 640x480 with 1 Axes>"
      ]
     },
     "metadata": {},
     "output_type": "display_data"
    }
   ],
   "source": [
    "sns.distplot(accept_reject(10000))\n"
   ]
  },
  {
   "attachments": {},
   "cell_type": "markdown",
   "metadata": {},
   "source": [
    "5 a"
   ]
  },
  {
   "cell_type": "code",
   "execution_count": 22,
   "metadata": {},
   "outputs": [
    {
     "name": "stderr",
     "output_type": "stream",
     "text": [
      "/tmp/ipykernel_4725/3256433491.py:4: UserWarning: \n",
      "\n",
      "`distplot` is a deprecated function and will be removed in seaborn v0.14.0.\n",
      "\n",
      "Please adapt your code to use either `displot` (a figure-level function with\n",
      "similar flexibility) or `histplot` (an axes-level function for histograms).\n",
      "\n",
      "For a guide to updating your code to use the new functions, please see\n",
      "https://gist.github.com/mwaskom/de44147ed2974457ad6372750bbe5751\n",
      "\n",
      "  sns.distplot(inverse(N))\n",
      "/tmp/ipykernel_4725/3256433491.py:5: UserWarning: \n",
      "\n",
      "`distplot` is a deprecated function and will be removed in seaborn v0.14.0.\n",
      "\n",
      "Please adapt your code to use either `displot` (a figure-level function with\n",
      "similar flexibility) or `histplot` (an axes-level function for histograms).\n",
      "\n",
      "For a guide to updating your code to use the new functions, please see\n",
      "https://gist.github.com/mwaskom/de44147ed2974457ad6372750bbe5751\n",
      "\n",
      "  sns.distplot(np.random.exponential(N))\n"
     ]
    },
    {
     "data": {
      "image/png": "[encoded data removed]",
      "text/plain": [
       "<Figure size 640x480 with 1 Axes>"
      ]
     },
     "metadata": {},
     "output_type": "display_data"
    }
   ],
   "source": [
    "def inverse(data):\n",
    "    formula=0.25*data+0.5*pow(data,4)+0.25*pow(data,5)\n",
    "    return formula\n",
    "sns.distplot(inverse(N))\n",
    "sns.distplot(np.random.exponential(N))\n",
    "plt.show()"
   ]
  },
  {
   "cell_type": "code",
   "execution_count": 19,
   "metadata": {},
   "outputs": [],
   "source": [
    "def p(x):\n",
    "    return 0.25+(x**3)+(x**4)\n",
    "\n",
    "def accept_reject(N): # menggunakan metode https://rh8liuqy.github.io/Accept_reject.html\n",
    "    xmin = -3\n",
    "    xmax = 3\n",
    "    pmax = 0.8\n",
    "\n",
    "    n_accept=0\n",
    "    x_list = [] \n",
    "    while n_accept < N:\n",
    "        t = (xmax-xmin)*np.random.rand() + xmin\n",
    "        y = np.random.rand()\n",
    "        if y < p(t)/ pmax:\n",
    "            n_accept += 1\n",
    "            x_list.append(t)\n",
    "    return x_list"
   ]
  },
  {
   "cell_type": "code",
   "execution_count": 20,
   "metadata": {},
   "outputs": [
    {
     "name": "stderr",
     "output_type": "stream",
     "text": [
      "/tmp/ipykernel_4725/451898815.py:1: UserWarning: \n",
      "\n",
      "`distplot` is a deprecated function and will be removed in seaborn v0.14.0.\n",
      "\n",
      "Please adapt your code to use either `displot` (a figure-level function with\n",
      "similar flexibility) or `histplot` (an axes-level function for histograms).\n",
      "\n",
      "For a guide to updating your code to use the new functions, please see\n",
      "https://gist.github.com/mwaskom/de44147ed2974457ad6372750bbe5751\n",
      "\n",
      "  sns.distplot(accept_reject(1000))\n"
     ]
    },
    {
     "data": {
      "text/plain": [
       "<AxesSubplot: ylabel='Density'>"
      ]
     },
     "execution_count": 20,
     "metadata": {},
     "output_type": "execute_result"
    },
    {
     "data": {
      "image/png": "[encoded data removed]",
      "text/plain": [
       "<Figure size 640x480 with 1 Axes>"
      ]
     },
     "metadata": {},
     "output_type": "display_data"
    }
   ],
   "source": [
    "sns.distplot(accept_reject(1000))"
   ]
  },
  {
   "cell_type": "code",
   "execution_count": null,
   "metadata": {},
   "outputs": [],
   "source": []
  }
 ],
 "metadata": {
  "kernelspec": {
   "display_name": "Python 3",
   "language": "python",
   "name": "python3"
  },
  "language_info": {
   "codemirror_mode": {
    "name": "ipython",
    "version": 3
   },
   "file_extension": ".py",
   "mimetype": "text/x-python",
   "name": "python",
   "nbconvert_exporter": "python",
   "pygments_lexer": "ipython3",
   "version": "3.10.7"
  },
  "orig_nbformat": 4,
  "vscode": {
   "interpreter": {
    "hash": "e7370f93d1d0cde622a1f8e1c04877d8463912d04d973331ad4851f04de6915a"
   }
  }
 },
 "nbformat": 4,
 "nbformat_minor": 2
}
