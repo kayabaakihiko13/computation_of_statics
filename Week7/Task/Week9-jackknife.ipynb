{
 "cells": [
  {
   "cell_type": "markdown",
   "metadata": {},
   "source": [
    "<h2 align=\"center\">\n",
    "    Week 9\n",
    "</h2>\n",
    "<div>\n",
    "    <h3>Author: Iqbal Ramadhan</h3>\n",
    "    <h3>ID Student:21083010111</h3>\n",
    "    <h3>Subject:Computational statistics<h3>\n",
    "    <h4>Link For this source :<br><a>https://github.com/kayabaakihiko13/computation_of_statics/tree/main/Week7/Task/a></h4>\n",
    "</div>"
   ]
  },
  {
   "cell_type": "markdown",
   "metadata": {},
   "source": [
    "<h1 align=\"center\">Jackknife</h1>\n",
    "\n",
    "<h5>Dalam statistik, jackknife adalah teknik validasi silang dan, karenanya, merupakan bentuk resampling. Ini sangat berguna untuk estimasi bias dan varians. Jackknife mendahului metode resampling umum lainnya seperti <a href=\"https://en.wikipedia.org/wiki/Bootstrapping_(statistics)\">bootstrap</a>\n",
    "</h5>\n",
    "\n",
    "> refences:https:\n",
    "https://en.wikipedia.org/wiki/Jackknife_resampling\n"
   ]
  },
  {
   "cell_type": "code",
   "execution_count": 1,
   "metadata": {},
   "outputs": [],
   "source": [
    "from model.nerve import jackknife_stat\n",
    "from model.basic import mean"
   ]
  },
  {
   "cell_type": "code",
   "execution_count": 4,
   "metadata": {},
   "outputs": [],
   "source": [
    "# sample for jackknife\n",
    "sample = ([7, 11, 8, 30])\n",
    "# jackknife_stat(sample,np.mean)"
   ]
  },
  {
   "cell_type": "code",
   "execution_count": 3,
   "metadata": {},
   "outputs": [
    {
     "data": {
      "text/plain": [
       "(array([[11.,  8., 30.],\n",
       "        [ 7.,  8., 30.],\n",
       "        [ 7., 11., 30.],\n",
       "        [ 7., 11.,  8.]]),\n",
       " 14.000000000000005,\n",
       " -5.329070518200751e-15,\n",
       " 5.400617248673217,\n",
       " array([ 3.4149847, 24.5850153]))"
      ]
     },
     "execution_count": 3,
     "metadata": {},
     "output_type": "execute_result"
    }
   ],
   "source": [
    "jackknife_stat(sample,mean)"
   ]
  },
  {
   "cell_type": "code",
   "execution_count": 4,
   "metadata": {},
   "outputs": [
    {
     "data": {
      "text/plain": [
       "(array([[11.,  8., 30.],\n",
       "        [ 7.,  8., 30.],\n",
       "        [ 7., 11., 30.],\n",
       "        [ 7., 11.,  8.]]),\n",
       " 14.000000000000005,\n",
       " -5.329070518200751e-15,\n",
       " 5.400617248673217,\n",
       " array([ 3.4149847, 24.5850153]))"
      ]
     },
     "execution_count": 4,
     "metadata": {},
     "output_type": "execute_result"
    }
   ],
   "source": [
    "import numpy as np\n",
    "jackknife_stat(sample,np.mean)"
   ]
  },
  {
   "cell_type": "code",
   "execution_count": 5,
   "metadata": {},
   "outputs": [
    {
     "data": {
      "text/plain": [
       "14.000000000000005"
      ]
     },
     "execution_count": 5,
     "metadata": {},
     "output_type": "execute_result"
    }
   ],
   "source": [
    "resample,mean_resample,_,_,_=jackknife_stat(sample,mean)\n",
    "resample\n",
    "# mean(resample)\n",
    "mean_resample"
   ]
  }
 ],
 "metadata": {
  "kernelspec": {
   "display_name": "Python 3.10.7 64-bit",
   "language": "python",
   "name": "python3"
  },
  "language_info": {
   "codemirror_mode": {
    "name": "ipython",
    "version": 3
   },
   "file_extension": ".py",
   "mimetype": "text/x-python",
   "name": "python",
   "nbconvert_exporter": "python",
   "pygments_lexer": "ipython3",
   "version": "3.10.7"
  },
  "orig_nbformat": 4,
  "vscode": {
   "interpreter": {
    "hash": "916dbcbb3f70747c44a77c7bcd40155683ae19c65e1c03b4aa3499c5328201f1"
   }
  }
 },
 "nbformat": 4,
 "nbformat_minor": 2
}
