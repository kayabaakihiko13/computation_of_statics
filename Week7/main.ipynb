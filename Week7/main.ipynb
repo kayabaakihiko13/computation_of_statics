{
 "cells": [
  {
   "cell_type": "code",
   "execution_count": 116,
   "metadata": {},
   "outputs": [],
   "source": [
    "# import pakage\n",
    "import seaborn as sns\n",
    "import numpy as np\n",
    "import matplotlib.pyplot as plt\n",
    "%matplotlib inline"
   ]
  },
  {
   "cell_type": "code",
   "execution_count": 117,
   "metadata": {},
   "outputs": [],
   "source": [
    "sampel=[7,11,8,30]"
   ]
  },
  {
   "cell_type": "code",
   "execution_count": 122,
   "metadata": {},
   "outputs": [],
   "source": [
    "import random as r\n",
    "import numpy as np\n",
    "from sklearn.metrics import mean_absolute_error\n",
    "import scipy.stats as st\n",
    "def boostaping_mean(data,rows=100,k=2,alpha=.05):\n",
    "    \n",
    "    dummy_1=[]\n",
    "    mean_true=np.repeat(np.mean(data),rows)\n",
    "    print('Start Bootstarp'.center(30,'='))\n",
    "    for a in range(rows):\n",
    "        dummy_2=[]\n",
    "        for b in range(k):\n",
    "            rumbling=r.sample(data,1)\n",
    "            dummy_2.append(rumbling)\n",
    "        mean_sample=np.mean(dummy_2)\n",
    "        dummy_1.append(mean_sample)\n",
    "    mean_resample=np.mean(dummy_1)\n",
    "    var_mean_resample=np.var(dummy_1)\n",
    "    mse_mean_resample=mean_absolute_error(dummy_1,mean_true)\n",
    "    ci_resample=[np.mean(data)-st.norm.ppf(1-alpha/2)*var_mean_resample**.5,np.mean(data)+st.norm.ppf(1-alpha/2)*var_mean_resample**.5]\n",
    "    print('End Bootstarp'.center(30,'='))\n",
    "    \n",
    "    return mean_resample,var_mean_resample,mse_mean_resample,ci_resample\n",
    "\n"
   ]
  },
  {
   "cell_type": "code",
   "execution_count": 127,
   "metadata": {},
   "outputs": [],
   "source": [
    "import random as r\n",
    "import numpy as np\n",
    "from sklearn.metrics import mean_absolute_error\n",
    "import scipy.stats as st\n",
    "def median_bootrap(data,rows=100,k=2,alpha=.05):\n",
    "    dummy_1=[]\n",
    "    mean_true=np.repeat(np.mean(data),rows)\n",
    "    print('Start Bootstarp'.center(30,'='))\n",
    "    for a in range(rows):\n",
    "        dummy_2=[]\n",
    "        for b in range(k):\n",
    "            rumbling=r.sample(data,1)\n",
    "            dummy_2.append(rumbling)\n",
    "        mean_sample=np.median(dummy_2)\n",
    "        dummy_1.append(mean_sample)\n",
    "    median_resampel=np.median(dummy_1)\n",
    "    return median_resampel\n",
    "    # mean_resample=np.mean(dummy_1)\n",
    "    # var_mean_resample=np.var(dummy_1)\n",
    "    # mse_mean_resample=mean_absolute_error(dummy_1,mean_true)\n",
    "    # ci_resample=[np.mean(data)-st.norm.ppf(1-alpha/2)*var_mean_resample**.5,np.mean(data)+st.norm.ppf(1-alpha/2)*var_mean_resample**.5]\n",
    "    # print('End Bootstarp'.center(30,'='))\n",
    "    \n",
    "    "
   ]
  },
  {
   "cell_type": "code",
   "execution_count": 130,
   "metadata": {},
   "outputs": [
    {
     "name": "stdout",
     "output_type": "stream",
     "text": [
      "=======Start Bootstarp========\n"
     ]
    },
    {
     "data": {
      "text/plain": [
       "9.5"
      ]
     },
     "execution_count": 130,
     "metadata": {},
     "output_type": "execute_result"
    }
   ],
   "source": [
    "print(np.median(np.median(sampel)))\n",
    "median_bootrap(sampel)\n"
   ]
  },
  {
   "cell_type": "code",
   "execution_count": 131,
   "metadata": {},
   "outputs": [
    {
     "name": "stdout",
     "output_type": "stream",
     "text": [
      "=======Start Bootstarp========\n",
      "========End Bootstarp=========\n",
      "mean actual: 14.0\n",
      "mean Resample:14.001685714285715\n"
     ]
    }
   ],
   "source": [
    "sample = [7, 11, 8, 30]\n",
    "mean_resample,variance_resample_mean,mse_resample_mean,cofident_resample_mean=boostaping_mean(sampel,k=70,rows=1000)\n",
    "print('mean actual: {}'.format(np.mean(sampel)))\n",
    "print('mean Resample:{}'.format(mean_resample))"
   ]
  },
  {
   "cell_type": "code",
   "execution_count": null,
   "metadata": {},
   "outputs": [],
   "source": []
  }
 ],
 "metadata": {
  "kernelspec": {
   "display_name": "Python 3.10.7 64-bit",
   "language": "python",
   "name": "python3"
  },
  "language_info": {
   "codemirror_mode": {
    "name": "ipython",
    "version": 3
   },
   "file_extension": ".py",
   "mimetype": "text/x-python",
   "name": "python",
   "nbconvert_exporter": "python",
   "pygments_lexer": "ipython3",
   "version": "3.10.7"
  },
  "orig_nbformat": 4,
  "vscode": {
   "interpreter": {
    "hash": "916dbcbb3f70747c44a77c7bcd40155683ae19c65e1c03b4aa3499c5328201f1"
   }
  }
 },
 "nbformat": 4,
 "nbformat_minor": 2
}
